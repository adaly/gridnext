{
 "cells": [
  {
   "cell_type": "code",
   "execution_count": 1,
   "id": "cc6f175e-8af8-4d8a-8e04-cdab1810d4d9",
   "metadata": {},
   "outputs": [],
   "source": [
    "import os\n",
    "import glob\n",
    "import torch\n",
    "import torch.nn as nn\n",
    "from torch.utils.data import DataLoader, TensorDataset\n",
    "from matplotlib import pyplot as plt\n",
    "from gridnext.densenet import DenseNet\n",
    "from gridnext.plotting import plot_label_tensor\n",
    "from gridnext.visium_datasets import create_visium_dataset\n",
    "from gridnext.gridnet_models import GridNetHexMM\n",
    "from gridnext.multimodal_datasets import MMStackDataset"
   ]
  },
  {
   "cell_type": "code",
   "execution_count": 2,
   "id": "638433e8-a043-4f25-a2e7-61b46e3ea408",
   "metadata": {},
   "outputs": [],
   "source": [
    "# Download data from: https://zenodo.org/uploads/10372917\n",
    "\n",
    "data_dir = '../data/BA44_testdata'"
   ]
  },
  {
   "cell_type": "code",
   "execution_count": 3,
   "id": "8fde5c3d-a30b-4afb-8e89-c79bc5cd9afb",
   "metadata": {},
   "outputs": [],
   "source": [
    "spaceranger_dirs = sorted(glob.glob(os.path.join(data_dir, 'spaceranger', '*')))\n",
    "fullres_image_files = sorted(glob.glob(os.path.join(data_dir, 'fullres_images', '*.jpg')))\n",
    "annot_files = sorted(glob.glob(os.path.join(data_dir, 'annotations', '*.csv')))\n",
    "\n",
    "class_names = ['Layer_%d' % i for i in range(1, 7)] + ['White_matter']"
   ]
  },
  {
   "cell_type": "markdown",
   "id": "f3e66692-5429-43ac-aab2-d970e8711130",
   "metadata": {},
   "source": [
    "## AnnData-based workflow for pairing image and count"
   ]
  },
  {
   "cell_type": "markdown",
   "id": "66d24793-0c7c-43c7-bb13-454bf13f9ceb",
   "metadata": {},
   "source": [
    "### Instantiation of AnnData w/image information"
   ]
  },
  {
   "cell_type": "code",
   "execution_count": 4,
   "id": "1a0cf0ff-ec45-4985-87a0-0f641caa5dd9",
   "metadata": {},
   "outputs": [
    {
     "name": "stderr",
     "output_type": "stream",
     "text": [
      "/Users/aidandaly/miniforge3/lib/python3.10/site-packages/gridnext/visium_datasets.py:255: ImplicitModificationWarning: Trying to modify attribute `.obs` of view, initializing view as actual.\n",
      "  adata_arr.obs['imgpath'] = imfiles\n",
      "/Users/aidandaly/miniforge3/lib/python3.10/site-packages/gridnext/visium_datasets.py:255: ImplicitModificationWarning: Trying to modify attribute `.obs` of view, initializing view as actual.\n",
      "  adata_arr.obs['imgpath'] = imfiles\n",
      "/Users/aidandaly/miniforge3/lib/python3.10/site-packages/gridnext/visium_datasets.py:255: ImplicitModificationWarning: Trying to modify attribute `.obs` of view, initializing view as actual.\n",
      "  adata_arr.obs['imgpath'] = imfiles\n",
      "/Users/aidandaly/miniforge3/lib/python3.10/site-packages/gridnext/visium_datasets.py:255: ImplicitModificationWarning: Trying to modify attribute `.obs` of view, initializing view as actual.\n",
      "  adata_arr.obs['imgpath'] = imfiles\n",
      "/Users/aidandaly/miniforge3/lib/python3.10/site-packages/gridnext/visium_datasets.py:255: ImplicitModificationWarning: Trying to modify attribute `.obs` of view, initializing view as actual.\n",
      "  adata_arr.obs['imgpath'] = imfiles\n",
      "/Users/aidandaly/miniforge3/lib/python3.10/site-packages/gridnext/visium_datasets.py:255: ImplicitModificationWarning: Trying to modify attribute `.obs` of view, initializing view as actual.\n",
      "  adata_arr.obs['imgpath'] = imfiles\n"
     ]
    },
    {
     "name": "stdout",
     "output_type": "stream",
     "text": [
      "AnnData object with n_obs × n_vars = 22088 × 28463\n",
      "    obs: 'x', 'y', 'x_px', 'y_px', 'array', 'annotation', 'imgpath'\n"
     ]
    }
   ],
   "source": [
    "from gridnext.visium_datasets import create_visium_anndata_img\n",
    "\n",
    "# From pre-extracted image patches:\n",
    "imgpatch_dirs = sorted(glob.glob(os.path.join(data_dir, 'spaceranger', '*', '*_patches100um')))\n",
    "adata_img1 = create_visium_anndata_img(spaceranger_dirs, imgpatch_dirs=imgpatch_dirs, \n",
    "                                       annot_files=annot_files)\n",
    "print(adata_img1)"
   ]
  },
  {
   "cell_type": "code",
   "execution_count": 5,
   "id": "aeefddf5-4107-4f39-96ad-3db50856a239",
   "metadata": {},
   "outputs": [
    {
     "name": "stderr",
     "output_type": "stream",
     "text": [
      "/Users/aidandaly/miniforge3/lib/python3.10/site-packages/gridnext/visium_datasets.py:255: ImplicitModificationWarning: Trying to modify attribute `.obs` of view, initializing view as actual.\n",
      "  adata_arr.obs['imgpath'] = imfiles\n",
      "/Users/aidandaly/miniforge3/lib/python3.10/site-packages/gridnext/visium_datasets.py:255: ImplicitModificationWarning: Trying to modify attribute `.obs` of view, initializing view as actual.\n",
      "  adata_arr.obs['imgpath'] = imfiles\n",
      "/Users/aidandaly/miniforge3/lib/python3.10/site-packages/gridnext/visium_datasets.py:255: ImplicitModificationWarning: Trying to modify attribute `.obs` of view, initializing view as actual.\n",
      "  adata_arr.obs['imgpath'] = imfiles\n",
      "/Users/aidandaly/miniforge3/lib/python3.10/site-packages/gridnext/visium_datasets.py:255: ImplicitModificationWarning: Trying to modify attribute `.obs` of view, initializing view as actual.\n",
      "  adata_arr.obs['imgpath'] = imfiles\n",
      "/Users/aidandaly/miniforge3/lib/python3.10/site-packages/gridnext/visium_datasets.py:255: ImplicitModificationWarning: Trying to modify attribute `.obs` of view, initializing view as actual.\n",
      "  adata_arr.obs['imgpath'] = imfiles\n",
      "/Users/aidandaly/miniforge3/lib/python3.10/site-packages/gridnext/visium_datasets.py:255: ImplicitModificationWarning: Trying to modify attribute `.obs` of view, initializing view as actual.\n",
      "  adata_arr.obs['imgpath'] = imfiles\n"
     ]
    },
    {
     "name": "stdout",
     "output_type": "stream",
     "text": [
      "AnnData object with n_obs × n_vars = 22088 × 28463\n",
      "    obs: 'x', 'y', 'x_px', 'y_px', 'array', 'annotation', 'imgpath'\n"
     ]
    }
   ],
   "source": [
    "# On-demand image patch extraction:\n",
    "adata_img2 = create_visium_anndata_img(spaceranger_dirs, fullres_image_files=fullres_image_files, patch_size_um=200,\n",
    "                                       annot_files=annot_files)\n",
    "print(adata_img2)"
   ]
  },
  {
   "cell_type": "markdown",
   "id": "302b021a-f9e4-412e-a25b-f4682b0e5691",
   "metadata": {},
   "source": [
    "### Instantiation of Dataset from AnnData"
   ]
  },
  {
   "cell_type": "code",
   "execution_count": 6,
   "id": "9aa25fba-2aa7-4be2-a650-189374111bd1",
   "metadata": {},
   "outputs": [
    {
     "data": {
      "text/html": [
       "<div>\n",
       "<style scoped>\n",
       "    .dataframe tbody tr th:only-of-type {\n",
       "        vertical-align: middle;\n",
       "    }\n",
       "\n",
       "    .dataframe tbody tr th {\n",
       "        vertical-align: top;\n",
       "    }\n",
       "\n",
       "    .dataframe thead th {\n",
       "        text-align: right;\n",
       "    }\n",
       "</style>\n",
       "<table border=\"1\" class=\"dataframe\">\n",
       "  <thead>\n",
       "    <tr style=\"text-align: right;\">\n",
       "      <th></th>\n",
       "      <th>x</th>\n",
       "      <th>y</th>\n",
       "      <th>x_px</th>\n",
       "      <th>y_px</th>\n",
       "      <th>array</th>\n",
       "      <th>annotation</th>\n",
       "      <th>imgpath</th>\n",
       "    </tr>\n",
       "  </thead>\n",
       "  <tbody>\n",
       "    <tr>\n",
       "      <th>V003-CGND-HRA-02744-A_51_5</th>\n",
       "      <td>51</td>\n",
       "      <td>5</td>\n",
       "      <td>7335</td>\n",
       "      <td>2099</td>\n",
       "      <td>V003-CGND-HRA-02744-A</td>\n",
       "      <td>White_matter</td>\n",
       "      <td>../data/BA44_testdata/spaceranger/V003-CGND-HR...</td>\n",
       "    </tr>\n",
       "    <tr>\n",
       "      <th>V003-CGND-HRA-02744-A_52_4</th>\n",
       "      <td>52</td>\n",
       "      <td>4</td>\n",
       "      <td>7448</td>\n",
       "      <td>1902</td>\n",
       "      <td>V003-CGND-HRA-02744-A</td>\n",
       "      <td>White_matter</td>\n",
       "      <td>../data/BA44_testdata/spaceranger/V003-CGND-HR...</td>\n",
       "    </tr>\n",
       "    <tr>\n",
       "      <th>V003-CGND-HRA-02744-A_53_5</th>\n",
       "      <td>53</td>\n",
       "      <td>5</td>\n",
       "      <td>7561</td>\n",
       "      <td>2099</td>\n",
       "      <td>V003-CGND-HRA-02744-A</td>\n",
       "      <td>White_matter</td>\n",
       "      <td>../data/BA44_testdata/spaceranger/V003-CGND-HR...</td>\n",
       "    </tr>\n",
       "    <tr>\n",
       "      <th>V003-CGND-HRA-02744-A_54_4</th>\n",
       "      <td>54</td>\n",
       "      <td>4</td>\n",
       "      <td>7674</td>\n",
       "      <td>1902</td>\n",
       "      <td>V003-CGND-HRA-02744-A</td>\n",
       "      <td>White_matter</td>\n",
       "      <td>../data/BA44_testdata/spaceranger/V003-CGND-HR...</td>\n",
       "    </tr>\n",
       "    <tr>\n",
       "      <th>V003-CGND-HRA-02744-A_55_5</th>\n",
       "      <td>55</td>\n",
       "      <td>5</td>\n",
       "      <td>7788</td>\n",
       "      <td>2099</td>\n",
       "      <td>V003-CGND-HRA-02744-A</td>\n",
       "      <td>White_matter</td>\n",
       "      <td>../data/BA44_testdata/spaceranger/V003-CGND-HR...</td>\n",
       "    </tr>\n",
       "    <tr>\n",
       "      <th>...</th>\n",
       "      <td>...</td>\n",
       "      <td>...</td>\n",
       "      <td>...</td>\n",
       "      <td>...</td>\n",
       "      <td>...</td>\n",
       "      <td>...</td>\n",
       "      <td>...</td>\n",
       "    </tr>\n",
       "    <tr>\n",
       "      <th>V005-CGND-HRA-02751-B_13_71</th>\n",
       "      <td>13</td>\n",
       "      <td>71</td>\n",
       "      <td>2887</td>\n",
       "      <td>15128</td>\n",
       "      <td>V005-CGND-HRA-02751-B</td>\n",
       "      <td>Layer_3</td>\n",
       "      <td>../data/BA44_testdata/spaceranger/V005-CGND-HR...</td>\n",
       "    </tr>\n",
       "    <tr>\n",
       "      <th>V005-CGND-HRA-02751-B_14_70</th>\n",
       "      <td>14</td>\n",
       "      <td>70</td>\n",
       "      <td>3000</td>\n",
       "      <td>14931</td>\n",
       "      <td>V005-CGND-HRA-02751-B</td>\n",
       "      <td>Layer_3</td>\n",
       "      <td>../data/BA44_testdata/spaceranger/V005-CGND-HR...</td>\n",
       "    </tr>\n",
       "    <tr>\n",
       "      <th>V005-CGND-HRA-02751-B_16_70</th>\n",
       "      <td>16</td>\n",
       "      <td>70</td>\n",
       "      <td>3226</td>\n",
       "      <td>14931</td>\n",
       "      <td>V005-CGND-HRA-02751-B</td>\n",
       "      <td>Layer_3</td>\n",
       "      <td>../data/BA44_testdata/spaceranger/V005-CGND-HR...</td>\n",
       "    </tr>\n",
       "    <tr>\n",
       "      <th>V005-CGND-HRA-02751-B_18_70</th>\n",
       "      <td>18</td>\n",
       "      <td>70</td>\n",
       "      <td>3453</td>\n",
       "      <td>14931</td>\n",
       "      <td>V005-CGND-HRA-02751-B</td>\n",
       "      <td>Layer_4</td>\n",
       "      <td>../data/BA44_testdata/spaceranger/V005-CGND-HR...</td>\n",
       "    </tr>\n",
       "    <tr>\n",
       "      <th>V005-CGND-HRA-02751-B_20_70</th>\n",
       "      <td>20</td>\n",
       "      <td>70</td>\n",
       "      <td>3679</td>\n",
       "      <td>14931</td>\n",
       "      <td>V005-CGND-HRA-02751-B</td>\n",
       "      <td>Layer_4</td>\n",
       "      <td>../data/BA44_testdata/spaceranger/V005-CGND-HR...</td>\n",
       "    </tr>\n",
       "  </tbody>\n",
       "</table>\n",
       "<p>22088 rows × 7 columns</p>\n",
       "</div>"
      ],
      "text/plain": [
       "                              x   y  x_px   y_px                  array  \\\n",
       "V003-CGND-HRA-02744-A_51_5   51   5  7335   2099  V003-CGND-HRA-02744-A   \n",
       "V003-CGND-HRA-02744-A_52_4   52   4  7448   1902  V003-CGND-HRA-02744-A   \n",
       "V003-CGND-HRA-02744-A_53_5   53   5  7561   2099  V003-CGND-HRA-02744-A   \n",
       "V003-CGND-HRA-02744-A_54_4   54   4  7674   1902  V003-CGND-HRA-02744-A   \n",
       "V003-CGND-HRA-02744-A_55_5   55   5  7788   2099  V003-CGND-HRA-02744-A   \n",
       "...                          ..  ..   ...    ...                    ...   \n",
       "V005-CGND-HRA-02751-B_13_71  13  71  2887  15128  V005-CGND-HRA-02751-B   \n",
       "V005-CGND-HRA-02751-B_14_70  14  70  3000  14931  V005-CGND-HRA-02751-B   \n",
       "V005-CGND-HRA-02751-B_16_70  16  70  3226  14931  V005-CGND-HRA-02751-B   \n",
       "V005-CGND-HRA-02751-B_18_70  18  70  3453  14931  V005-CGND-HRA-02751-B   \n",
       "V005-CGND-HRA-02751-B_20_70  20  70  3679  14931  V005-CGND-HRA-02751-B   \n",
       "\n",
       "                               annotation  \\\n",
       "V003-CGND-HRA-02744-A_51_5   White_matter   \n",
       "V003-CGND-HRA-02744-A_52_4   White_matter   \n",
       "V003-CGND-HRA-02744-A_53_5   White_matter   \n",
       "V003-CGND-HRA-02744-A_54_4   White_matter   \n",
       "V003-CGND-HRA-02744-A_55_5   White_matter   \n",
       "...                                   ...   \n",
       "V005-CGND-HRA-02751-B_13_71       Layer_3   \n",
       "V005-CGND-HRA-02751-B_14_70       Layer_3   \n",
       "V005-CGND-HRA-02751-B_16_70       Layer_3   \n",
       "V005-CGND-HRA-02751-B_18_70       Layer_4   \n",
       "V005-CGND-HRA-02751-B_20_70       Layer_4   \n",
       "\n",
       "                                                                       imgpath  \n",
       "V003-CGND-HRA-02744-A_51_5   ../data/BA44_testdata/spaceranger/V003-CGND-HR...  \n",
       "V003-CGND-HRA-02744-A_52_4   ../data/BA44_testdata/spaceranger/V003-CGND-HR...  \n",
       "V003-CGND-HRA-02744-A_53_5   ../data/BA44_testdata/spaceranger/V003-CGND-HR...  \n",
       "V003-CGND-HRA-02744-A_54_4   ../data/BA44_testdata/spaceranger/V003-CGND-HR...  \n",
       "V003-CGND-HRA-02744-A_55_5   ../data/BA44_testdata/spaceranger/V003-CGND-HR...  \n",
       "...                                                                        ...  \n",
       "V005-CGND-HRA-02751-B_13_71  ../data/BA44_testdata/spaceranger/V005-CGND-HR...  \n",
       "V005-CGND-HRA-02751-B_14_70  ../data/BA44_testdata/spaceranger/V005-CGND-HR...  \n",
       "V005-CGND-HRA-02751-B_16_70  ../data/BA44_testdata/spaceranger/V005-CGND-HR...  \n",
       "V005-CGND-HRA-02751-B_18_70  ../data/BA44_testdata/spaceranger/V005-CGND-HR...  \n",
       "V005-CGND-HRA-02751-B_20_70  ../data/BA44_testdata/spaceranger/V005-CGND-HR...  \n",
       "\n",
       "[22088 rows x 7 columns]"
      ]
     },
     "execution_count": 6,
     "metadata": {},
     "output_type": "execute_result"
    }
   ],
   "source": [
    "adata_img1.obs"
   ]
  },
  {
   "cell_type": "code",
   "execution_count": 11,
   "id": "e7fdb608-0ea9-4a27-8c43-d0fc21d05731",
   "metadata": {},
   "outputs": [
    {
     "name": "stdout",
     "output_type": "stream",
     "text": [
      "22088\n",
      "torch.Size([3, 227, 227]) torch.Size([28463]) tensor(6)\n"
     ]
    }
   ],
   "source": [
    "from gridnext.multimodal_datasets import MMAnnDataset, MMAnnGridDataset\n",
    "\n",
    "mm_pdat = MMAnnDataset(adata_img1, 'annotation')\n",
    "print(len(mm_pdat))\n",
    "\n",
    "(xi, xc), y = mm_pdat[0]\n",
    "print(xi.shape, xc.shape, y)"
   ]
  },
  {
   "cell_type": "code",
   "execution_count": 14,
   "id": "b0d83da3-935f-4995-bf57-43cd66274986",
   "metadata": {},
   "outputs": [
    {
     "name": "stdout",
     "output_type": "stream",
     "text": [
      "6\n",
      "torch.Size([78, 64, 3, 227, 227]) torch.Size([28463, 78, 64]) 76\n"
     ]
    }
   ],
   "source": [
    "mm_gdat = MMAnnGridDataset(adata_img1, 'annotation', 'array')\n",
    "print(len(mm_gdat))\n",
    "\n",
    "(xi, xc), y = mm_gdat[0]\n",
    "print(xi.shape, xc.shape, y)"
   ]
  },
  {
   "cell_type": "code",
   "execution_count": 9,
   "id": "ae9acc91-5ad3-4b0e-99a0-a02fe2c662e6",
   "metadata": {},
   "outputs": [
    {
     "data": {
      "text/html": [
       "<div>\n",
       "<style scoped>\n",
       "    .dataframe tbody tr th:only-of-type {\n",
       "        vertical-align: middle;\n",
       "    }\n",
       "\n",
       "    .dataframe tbody tr th {\n",
       "        vertical-align: top;\n",
       "    }\n",
       "\n",
       "    .dataframe thead th {\n",
       "        text-align: right;\n",
       "    }\n",
       "</style>\n",
       "<table border=\"1\" class=\"dataframe\">\n",
       "  <thead>\n",
       "    <tr style=\"text-align: right;\">\n",
       "      <th></th>\n",
       "      <th>x</th>\n",
       "      <th>y</th>\n",
       "      <th>x_px</th>\n",
       "      <th>y_px</th>\n",
       "      <th>array</th>\n",
       "      <th>annotation</th>\n",
       "      <th>imgpath</th>\n",
       "    </tr>\n",
       "  </thead>\n",
       "  <tbody>\n",
       "    <tr>\n",
       "      <th>V003-CGND-HRA-02744-A_51_5</th>\n",
       "      <td>51</td>\n",
       "      <td>5</td>\n",
       "      <td>7335</td>\n",
       "      <td>2099</td>\n",
       "      <td>V003-CGND-HRA-02744-A</td>\n",
       "      <td>White_matter</td>\n",
       "      <td>../data/BA44_testdata/spaceranger/V003-CGND-HR...</td>\n",
       "    </tr>\n",
       "    <tr>\n",
       "      <th>V003-CGND-HRA-02744-A_52_4</th>\n",
       "      <td>52</td>\n",
       "      <td>4</td>\n",
       "      <td>7448</td>\n",
       "      <td>1902</td>\n",
       "      <td>V003-CGND-HRA-02744-A</td>\n",
       "      <td>White_matter</td>\n",
       "      <td>../data/BA44_testdata/spaceranger/V003-CGND-HR...</td>\n",
       "    </tr>\n",
       "    <tr>\n",
       "      <th>V003-CGND-HRA-02744-A_53_5</th>\n",
       "      <td>53</td>\n",
       "      <td>5</td>\n",
       "      <td>7561</td>\n",
       "      <td>2099</td>\n",
       "      <td>V003-CGND-HRA-02744-A</td>\n",
       "      <td>White_matter</td>\n",
       "      <td>../data/BA44_testdata/spaceranger/V003-CGND-HR...</td>\n",
       "    </tr>\n",
       "    <tr>\n",
       "      <th>V003-CGND-HRA-02744-A_54_4</th>\n",
       "      <td>54</td>\n",
       "      <td>4</td>\n",
       "      <td>7674</td>\n",
       "      <td>1902</td>\n",
       "      <td>V003-CGND-HRA-02744-A</td>\n",
       "      <td>White_matter</td>\n",
       "      <td>../data/BA44_testdata/spaceranger/V003-CGND-HR...</td>\n",
       "    </tr>\n",
       "    <tr>\n",
       "      <th>V003-CGND-HRA-02744-A_55_5</th>\n",
       "      <td>55</td>\n",
       "      <td>5</td>\n",
       "      <td>7788</td>\n",
       "      <td>2099</td>\n",
       "      <td>V003-CGND-HRA-02744-A</td>\n",
       "      <td>White_matter</td>\n",
       "      <td>../data/BA44_testdata/spaceranger/V003-CGND-HR...</td>\n",
       "    </tr>\n",
       "    <tr>\n",
       "      <th>...</th>\n",
       "      <td>...</td>\n",
       "      <td>...</td>\n",
       "      <td>...</td>\n",
       "      <td>...</td>\n",
       "      <td>...</td>\n",
       "      <td>...</td>\n",
       "      <td>...</td>\n",
       "    </tr>\n",
       "    <tr>\n",
       "      <th>V005-CGND-HRA-02751-B_13_71</th>\n",
       "      <td>13</td>\n",
       "      <td>71</td>\n",
       "      <td>2887</td>\n",
       "      <td>15128</td>\n",
       "      <td>V005-CGND-HRA-02751-B</td>\n",
       "      <td>Layer_3</td>\n",
       "      <td>../data/BA44_testdata/spaceranger/V005-CGND-HR...</td>\n",
       "    </tr>\n",
       "    <tr>\n",
       "      <th>V005-CGND-HRA-02751-B_14_70</th>\n",
       "      <td>14</td>\n",
       "      <td>70</td>\n",
       "      <td>3000</td>\n",
       "      <td>14931</td>\n",
       "      <td>V005-CGND-HRA-02751-B</td>\n",
       "      <td>Layer_3</td>\n",
       "      <td>../data/BA44_testdata/spaceranger/V005-CGND-HR...</td>\n",
       "    </tr>\n",
       "    <tr>\n",
       "      <th>V005-CGND-HRA-02751-B_16_70</th>\n",
       "      <td>16</td>\n",
       "      <td>70</td>\n",
       "      <td>3226</td>\n",
       "      <td>14931</td>\n",
       "      <td>V005-CGND-HRA-02751-B</td>\n",
       "      <td>Layer_3</td>\n",
       "      <td>../data/BA44_testdata/spaceranger/V005-CGND-HR...</td>\n",
       "    </tr>\n",
       "    <tr>\n",
       "      <th>V005-CGND-HRA-02751-B_18_70</th>\n",
       "      <td>18</td>\n",
       "      <td>70</td>\n",
       "      <td>3453</td>\n",
       "      <td>14931</td>\n",
       "      <td>V005-CGND-HRA-02751-B</td>\n",
       "      <td>Layer_4</td>\n",
       "      <td>../data/BA44_testdata/spaceranger/V005-CGND-HR...</td>\n",
       "    </tr>\n",
       "    <tr>\n",
       "      <th>V005-CGND-HRA-02751-B_20_70</th>\n",
       "      <td>20</td>\n",
       "      <td>70</td>\n",
       "      <td>3679</td>\n",
       "      <td>14931</td>\n",
       "      <td>V005-CGND-HRA-02751-B</td>\n",
       "      <td>Layer_4</td>\n",
       "      <td>../data/BA44_testdata/spaceranger/V005-CGND-HR...</td>\n",
       "    </tr>\n",
       "  </tbody>\n",
       "</table>\n",
       "<p>22088 rows × 7 columns</p>\n",
       "</div>"
      ],
      "text/plain": [
       "                              x   y  x_px   y_px                  array  \\\n",
       "V003-CGND-HRA-02744-A_51_5   51   5  7335   2099  V003-CGND-HRA-02744-A   \n",
       "V003-CGND-HRA-02744-A_52_4   52   4  7448   1902  V003-CGND-HRA-02744-A   \n",
       "V003-CGND-HRA-02744-A_53_5   53   5  7561   2099  V003-CGND-HRA-02744-A   \n",
       "V003-CGND-HRA-02744-A_54_4   54   4  7674   1902  V003-CGND-HRA-02744-A   \n",
       "V003-CGND-HRA-02744-A_55_5   55   5  7788   2099  V003-CGND-HRA-02744-A   \n",
       "...                          ..  ..   ...    ...                    ...   \n",
       "V005-CGND-HRA-02751-B_13_71  13  71  2887  15128  V005-CGND-HRA-02751-B   \n",
       "V005-CGND-HRA-02751-B_14_70  14  70  3000  14931  V005-CGND-HRA-02751-B   \n",
       "V005-CGND-HRA-02751-B_16_70  16  70  3226  14931  V005-CGND-HRA-02751-B   \n",
       "V005-CGND-HRA-02751-B_18_70  18  70  3453  14931  V005-CGND-HRA-02751-B   \n",
       "V005-CGND-HRA-02751-B_20_70  20  70  3679  14931  V005-CGND-HRA-02751-B   \n",
       "\n",
       "                               annotation  \\\n",
       "V003-CGND-HRA-02744-A_51_5   White_matter   \n",
       "V003-CGND-HRA-02744-A_52_4   White_matter   \n",
       "V003-CGND-HRA-02744-A_53_5   White_matter   \n",
       "V003-CGND-HRA-02744-A_54_4   White_matter   \n",
       "V003-CGND-HRA-02744-A_55_5   White_matter   \n",
       "...                                   ...   \n",
       "V005-CGND-HRA-02751-B_13_71       Layer_3   \n",
       "V005-CGND-HRA-02751-B_14_70       Layer_3   \n",
       "V005-CGND-HRA-02751-B_16_70       Layer_3   \n",
       "V005-CGND-HRA-02751-B_18_70       Layer_4   \n",
       "V005-CGND-HRA-02751-B_20_70       Layer_4   \n",
       "\n",
       "                                                                       imgpath  \n",
       "V003-CGND-HRA-02744-A_51_5   ../data/BA44_testdata/spaceranger/V003-CGND-HR...  \n",
       "V003-CGND-HRA-02744-A_52_4   ../data/BA44_testdata/spaceranger/V003-CGND-HR...  \n",
       "V003-CGND-HRA-02744-A_53_5   ../data/BA44_testdata/spaceranger/V003-CGND-HR...  \n",
       "V003-CGND-HRA-02744-A_54_4   ../data/BA44_testdata/spaceranger/V003-CGND-HR...  \n",
       "V003-CGND-HRA-02744-A_55_5   ../data/BA44_testdata/spaceranger/V003-CGND-HR...  \n",
       "...                                                                        ...  \n",
       "V005-CGND-HRA-02751-B_13_71  ../data/BA44_testdata/spaceranger/V005-CGND-HR...  \n",
       "V005-CGND-HRA-02751-B_14_70  ../data/BA44_testdata/spaceranger/V005-CGND-HR...  \n",
       "V005-CGND-HRA-02751-B_16_70  ../data/BA44_testdata/spaceranger/V005-CGND-HR...  \n",
       "V005-CGND-HRA-02751-B_18_70  ../data/BA44_testdata/spaceranger/V005-CGND-HR...  \n",
       "V005-CGND-HRA-02751-B_20_70  ../data/BA44_testdata/spaceranger/V005-CGND-HR...  \n",
       "\n",
       "[22088 rows x 7 columns]"
      ]
     },
     "execution_count": 9,
     "metadata": {},
     "output_type": "execute_result"
    }
   ],
   "source": [
    "adata_img1.obs"
   ]
  },
  {
   "cell_type": "markdown",
   "id": "b322c135-9187-4d2c-9898-d30a10b080c7",
   "metadata": {},
   "source": [
    "## Dataset instantiation directly from Spaceranger"
   ]
  },
  {
   "cell_type": "code",
   "execution_count": 4,
   "id": "a8f54a36-0e8e-43b5-88ce-b5c3af9b81dc",
   "metadata": {},
   "outputs": [],
   "source": [
    "img_data = create_visium_dataset(spaceranger_dirs, \n",
    "                                 use_image=True, use_count=False, spatial=True,\n",
    "                                 fullres_image_files=fullres_image_files,\n",
    "                                 annot_files=annot_files)"
   ]
  },
  {
   "cell_type": "code",
   "execution_count": 5,
   "id": "0ad247b2-b6ee-448e-b442-ad41e4e9fa41",
   "metadata": {},
   "outputs": [],
   "source": [
    "count_data = create_visium_dataset(spaceranger_dirs, \n",
    "                                   use_image=False, use_count=True, spatial=True,\n",
    "                                   minimum_detection_rate=0.02,\n",
    "                                   annot_files=annot_files)"
   ]
  },
  {
   "cell_type": "code",
   "execution_count": 6,
   "id": "824aa573-523f-4572-98d4-ff8e05134b09",
   "metadata": {},
   "outputs": [
    {
     "name": "stdout",
     "output_type": "stream",
     "text": [
      "6\n"
     ]
    }
   ],
   "source": [
    "mm_gdat = create_visium_dataset(spaceranger_dirs, spatial=True,\n",
    "                                use_image=True, use_count=True, \n",
    "                                fullres_image_files=fullres_image_files,\n",
    "                                annot_files=annot_files)\n",
    "\n",
    "'''\n",
    "for i in range(len(mm_gdat)):\n",
    "    (xi,xc), y = mm_gdat[i]\n",
    "    fig, ax = plt.subplots(1, figsize=(2,2))\n",
    "    plot_label_tensor(y, class_names=class_names, Visium=True, ax=ax)\n",
    "    print(xi.shape, xi.min(), xi.max())\n",
    "    print(xc.shape, xc.min(), xc.max())\n",
    "'''\n",
    "print(len(mm_gdat))"
   ]
  },
  {
   "cell_type": "markdown",
   "id": "fa1cc796-7bd9-468d-81de-4da00f231ae8",
   "metadata": {},
   "source": [
    "### Smaller dummy dataset"
   ]
  },
  {
   "cell_type": "code",
   "execution_count": 19,
   "id": "4e8b13bf-07e8-429c-8ed7-89f465820b2a",
   "metadata": {},
   "outputs": [],
   "source": [
    "n, aw, imw, ngenes, nclasses = 6, 4, 224, 1000, 7\n",
    "imdat = torch.rand((n, aw, aw, 3, imw, imw)).float()\n",
    "cdat = torch.randint(0, 10, (n, ngenes, aw, aw)).float()\n",
    "ldat = torch.randint(0, nclasses, (n, aw, aw)).long()\n",
    "\n",
    "mm_gdat = MMStackDataset(TensorDataset(imdat, ldat), TensorDataset(cdat, ldat))"
   ]
  },
  {
   "cell_type": "markdown",
   "id": "cdde007f-a70a-4d73-a5a8-1feb9bf3a84e",
   "metadata": {},
   "source": [
    "## Model instantiation"
   ]
  },
  {
   "cell_type": "code",
   "execution_count": 20,
   "id": "c5385486-b47a-4862-a36a-88bcacc86b01",
   "metadata": {},
   "outputs": [
    {
     "name": "stdout",
     "output_type": "stream",
     "text": [
      "torch.Size([3, 224, 224])\n",
      "torch.Size([1000])\n",
      "torch.Size([4, 4])\n"
     ]
    }
   ],
   "source": [
    "(xi,xc), y = mm_gdat[0]\n",
    "image_shape = xi.shape[2:]\n",
    "count_shape = xc.shape[0:1]\n",
    "grid_shape = xi.shape[:2]\n",
    "\n",
    "print(image_shape)\n",
    "print(count_shape)\n",
    "print(grid_shape)"
   ]
  },
  {
   "cell_type": "code",
   "execution_count": 21,
   "id": "81107145-fc7b-441a-a319-1b958322122b",
   "metadata": {},
   "outputs": [],
   "source": [
    "f_count = nn.Sequential(\n",
    "    nn.Linear(xc.shape[0], 500),\n",
    "    nn.Linear(500, 100),\n",
    "    nn.BatchNorm1d(100),\n",
    "    nn.ReLU(),\n",
    "\n",
    "    nn.Linear(100, 100),\n",
    "    nn.Linear(100, 50),\n",
    "    nn.BatchNorm1d(50),\n",
    "    nn.ReLU(),\n",
    "\n",
    "    nn.Linear(50, len(class_names))\n",
    ")"
   ]
  },
  {
   "cell_type": "code",
   "execution_count": 22,
   "id": "e2c87181-f26c-4a4b-8f16-71c38c0bd5c3",
   "metadata": {},
   "outputs": [],
   "source": [
    "f_image = DenseNet(num_classes=len(class_names), small_inputs=False, efficient=False,\n",
    "                   growth_rate=32, block_config=(6, 12, 24, 16), num_init_features=64, bn_size=4, drop_rate=0)"
   ]
  },
  {
   "cell_type": "code",
   "execution_count": 23,
   "id": "ca546ef7-4eb8-4dfa-94f4-13105822e6d1",
   "metadata": {},
   "outputs": [
    {
     "name": "stdout",
     "output_type": "stream",
     "text": [
      "torch.Size([1, 14, 4, 4])\n",
      "torch.Size([1, 7, 4, 4])\n",
      "torch.Size([1, 14, 4, 4])\n",
      "torch.Size([1, 7, 4, 4])\n",
      "torch.Size([1, 14, 4, 4])\n",
      "torch.Size([1, 7, 4, 4])\n",
      "torch.Size([1, 14, 4, 4])\n",
      "torch.Size([1, 7, 4, 4])\n",
      "torch.Size([1, 14, 4, 4])\n",
      "torch.Size([1, 7, 4, 4])\n",
      "torch.Size([1, 14, 4, 4])\n",
      "torch.Size([1, 7, 4, 4])\n"
     ]
    }
   ],
   "source": [
    "g = GridNetHexMM(f_image, f_count, image_shape, count_shape, grid_shape, len(class_names))\n",
    "\n",
    "dl = DataLoader(mm_gdat, batch_size=1, shuffle=False)\n",
    "\n",
    "for x, y in dl:\n",
    "    pp = g.patch_predictions(x)\n",
    "    print(pp.shape)\n",
    "    out = g(x)\n",
    "    print(out.shape)"
   ]
  },
  {
   "cell_type": "code",
   "execution_count": null,
   "id": "90c881e4-3036-4e51-b988-321b1561a6a7",
   "metadata": {},
   "outputs": [],
   "source": []
  }
 ],
 "metadata": {
  "kernelspec": {
   "display_name": "Python 3 (ipykernel)",
   "language": "python",
   "name": "python3"
  },
  "language_info": {
   "codemirror_mode": {
    "name": "ipython",
    "version": 3
   },
   "file_extension": ".py",
   "mimetype": "text/x-python",
   "name": "python",
   "nbconvert_exporter": "python",
   "pygments_lexer": "ipython3",
   "version": "3.10.12"
  }
 },
 "nbformat": 4,
 "nbformat_minor": 5
}
