{
 "cells": [
  {
   "cell_type": "code",
   "execution_count": 1,
   "id": "2cbc8ab7",
   "metadata": {},
   "outputs": [],
   "source": [
    "import os, sys\n",
    "import numpy as np\n",
    "import pandas as pd\n",
    "\n",
    "import torch\n",
    "import torch.nn as nn\n",
    "from torch.utils.data import DataLoader\n",
    "from torchvision import transforms\n",
    "\n",
    "sys.path.append('/Users/adaly/Documents/Python/gridnext/src/')\n",
    "from image_datasets import PatchDataset, PatchGridDataset\n",
    "from training import train_spotwise, train_gridwise\n",
    "from densenet import DenseNet"
   ]
  },
  {
   "cell_type": "code",
   "execution_count": 2,
   "id": "1f5d13c0",
   "metadata": {},
   "outputs": [],
   "source": [
    "# Paths to count, image data\n",
    "data_dir = '/Users/adaly/Desktop/BA44/'\n",
    "\n",
    "meta = pd.read_csv(os.path.join(data_dir, 'Splotch_Metadata.tsv'), sep='\\t', header=0)\n",
    "\n",
    "image_files = np.array([os.path.join(data_dir, ifile.replace('HE', 'patchdata')).replace('.jpg', '/')\n",
    "                        for ifile in meta['Image file']])\n",
    "annot_files = np.array([os.path.join(data_dir, \n",
    "                                     afile.replace('annotations', 'annotations_splotch')).replace('csv', 'tsv') \n",
    "                        for afile in meta['Annotation file']])\n",
    "\n",
    "annot_names = pd.read_csv(annot_files[0], index_col=0, header=0, sep='\\t').index\n",
    "\n",
    "individuals = np.unique(meta['Level 3'])\n",
    "partitions = [individuals[:3], individuals[3:6], individuals[6:9], individuals[9:]]"
   ]
  },
  {
   "cell_type": "code",
   "execution_count": 3,
   "id": "449ddec0",
   "metadata": {},
   "outputs": [
    {
     "name": "stdout",
     "output_type": "stream",
     "text": [
      "['/Users/adaly/Desktop/BA44/patchdata/V003_V19T19-041-A1/'\n",
      " '/Users/adaly/Desktop/BA44/patchdata/V003_V19T19-041-B1/']\n",
      "['/Users/adaly/Desktop/BA44/annotations_splotch/V003-CGND-HRA-02744-A.tsv'\n",
      " '/Users/adaly/Desktop/BA44/annotations_splotch/V003-CGND-HRA-02744-B.tsv']\n"
     ]
    }
   ],
   "source": [
    "print(image_files[:2])\n",
    "print(annot_files[:2])\n",
    "test = PatchDataset(image_files[:2], annot_files[:2])"
   ]
  },
  {
   "cell_type": "code",
   "execution_count": null,
   "id": "f3fc22a3",
   "metadata": {},
   "outputs": [
    {
     "name": "stdout",
     "output_type": "stream",
     "text": [
      "Test Partition: BA44_SD004/16, BA44_SD008/13, BA44_SD011/18\n",
      "/Users/adaly/Desktop/BA44/annotations_splotch/V028-CGND-HRA-02749-A.tsv 97_5 improper annotation\n",
      "/Users/adaly/Desktop/BA44/annotations_splotch/V028-CGND-HRA-02749-A.tsv 47_55 improper annotation\n",
      "Epoch 0/99\n",
      "----------\n"
     ]
    }
   ],
   "source": [
    "# DenseNet121 preprocessing transform\n",
    "ppx = transforms.Compose([\n",
    "    transforms.Resize(256),\n",
    "    transforms.CenterCrop(224),\n",
    "    transforms.ToTensor(),\n",
    "    transforms.Normalize(mean=[0.485, 0.456, 0.406], std=[0.229, 0.224, 0.225]),\n",
    "])\n",
    "\n",
    "train_hist_part, val_hist_par = [], []\n",
    "\n",
    "for i, p in enumerate(partitions):\n",
    "    print('Test Partition: %s' % ', '.join(p))\n",
    "    val_inds = np.array([indiv in p for indiv in meta['Level 3']])\n",
    "    train_inds = np.logical_not(val_inds)\n",
    "    \n",
    "    val_set = PatchDataset(image_files[val_inds], annot_files[val_inds], img_transforms=ppx)\n",
    "    train_set = PatchDataset(image_files[train_inds], annot_files[train_inds], img_transforms=ppx)\n",
    "    \n",
    "    dataloader_spots = {\n",
    "        'train': DataLoader(train_set, batch_size=16, shuffle=True),\n",
    "        'val': DataLoader(val_set, batch_size=16)\n",
    "    }\n",
    "    \n",
    "    patch_clf = DenseNet(num_classes=len(annot_names), small_inputs=False, efficient=False,\n",
    "        growth_rate=32, block_config=(6, 12, 24, 16), num_init_features=64, bn_size=4, drop_rate=0)\n",
    "    \n",
    "    loss = nn.CrossEntropyLoss()\n",
    "    optimizer = torch.optim.Adam(patch_clf.parameters(), lr=1e-4)\n",
    "\n",
    "    patch_clf, val_hist, train_hist = train_spotwise(patch_clf, dataloader_spots, loss, optimizer, \n",
    "                                                     100, display=False,\n",
    "                                                     outfile='../models/densenet_ba44_p%d.pth' % i)\n",
    "    train_hist_part.append(train_hist)\n",
    "    val_hist_part.append(val_hist)\n",
    "\n",
    "    fig = plt.figure()\n",
    "    plt.plot(train_hist, label='train')\n",
    "    plt.plot(val_hist, label='val')\n",
    "    plt.xlabel('Training epochs')\n",
    "    plt.ylabel('Accuracy')\n",
    "    plt.legend()\n",
    "    plt.show()"
   ]
  },
  {
   "cell_type": "code",
   "execution_count": null,
   "id": "c3892516",
   "metadata": {},
   "outputs": [],
   "source": []
  }
 ],
 "metadata": {
  "kernelspec": {
   "display_name": "Python 3",
   "language": "python",
   "name": "python3"
  },
  "language_info": {
   "codemirror_mode": {
    "name": "ipython",
    "version": 3
   },
   "file_extension": ".py",
   "mimetype": "text/x-python",
   "name": "python",
   "nbconvert_exporter": "python",
   "pygments_lexer": "ipython3",
   "version": "3.7.6"
  }
 },
 "nbformat": 4,
 "nbformat_minor": 5
}
